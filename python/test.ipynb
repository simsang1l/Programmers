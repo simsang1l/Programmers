{
 "cells": [
  {
   "cell_type": "markdown",
   "metadata": {},
   "source": [
    "재귀연습"
   ]
  },
  {
   "cell_type": "markdown",
   "metadata": {},
   "source": [
    "1. 재귀 함수는 탈출 조건이 필요하다.팩토리얼로 예시를 들면 0!, 1!은 1이다. 이때 재귀는 탈출하게 된다."
   ]
  },
  {
   "cell_type": "code",
   "execution_count": 2,
   "metadata": {},
   "outputs": [
    {
     "name": "stdout",
     "output_type": "stream",
     "text": [
      "1\n",
      "2\n",
      "6\n",
      "24\n"
     ]
    }
   ],
   "source": [
    "# 팩토리얼 계산\n",
    "# 팩토리얼: n! = 1 * 2 * ... n-1 * n\n",
    "# 1 ~ n 까지 곱하기\n",
    "\n",
    "def factorial(n):\n",
    "    if n == 0 or n == 1 :\n",
    "        return 1\n",
    "    \n",
    "    return n * factorial(n-1)\n",
    "\n",
    "print(factorial(1))\n",
    "print(factorial(2))\n",
    "print(factorial(3))\n",
    "print(factorial(4))"
   ]
  },
  {
   "cell_type": "code",
   "execution_count": 8,
   "metadata": {},
   "outputs": [
    {
     "name": "stdout",
     "output_type": "stream",
     "text": [
      "0\n",
      "1\n",
      "1\n",
      "2\n",
      "3\n",
      "5\n",
      "8\n",
      "13\n"
     ]
    }
   ],
   "source": [
    "# 피보나치수열 구현해보기\n",
    "\n",
    "def fibonacci(n):\n",
    "    if n == 0 :\n",
    "        return 0\n",
    "    elif n == 1 :\n",
    "        return 1\n",
    "    elif n > 1:\n",
    "        return fibonacci(n-1) + fibonacci(n-2)\n",
    "\n",
    "print(fibonacci(0))\n",
    "print(fibonacci(1))\n",
    "print(fibonacci(2))\n",
    "print(fibonacci(3))\n",
    "print(fibonacci(4))\n",
    "print(fibonacci(5))\n",
    "print(fibonacci(6))\n",
    "print(fibonacci(7))"
   ]
  },
  {
   "cell_type": "code",
   "execution_count": 13,
   "metadata": {},
   "outputs": [],
   "source": [
    "# 이진 탐색 재귀 구현\n",
    "\n",
    "\n",
    "def binary_search(arr, target, low, high):\n",
    "    if high < low:\n",
    "        return -1\n",
    "    mid = (low + high) // 2\n",
    "    if target == arr[mid] :\n",
    "        return mid\n",
    "    elif target < arr[mid]:\n",
    "        return binary_search(arr, target, low, mid-1)\n",
    "    else:\n",
    "        return binary_search(arr, target, mid+1, high)\n",
    "    "
   ]
  },
  {
   "cell_type": "code",
   "execution_count": 11,
   "metadata": {},
   "outputs": [
    {
     "name": "stdout",
     "output_type": "stream",
     "text": [
      "4\n"
     ]
    }
   ],
   "source": [
    "arr = [-1, 0, 3, 5, 9, 12]\n",
    "target = 9\n",
    "\n",
    "low = 0\n",
    "high = len(arr) - 1\n",
    "# output: 4\n",
    "print(binary_search(arr, target, low, high))"
   ]
  },
  {
   "cell_type": "code",
   "execution_count": 14,
   "metadata": {},
   "outputs": [
    {
     "name": "stdout",
     "output_type": "stream",
     "text": [
      "-1\n"
     ]
    }
   ],
   "source": [
    "arr = [-1, 0, 3, 5, 9, 12]\n",
    "target = 2\n",
    "# output: -1\n",
    "print(binary_search(arr, target, low, high))"
   ]
  },
  {
   "cell_type": "code",
   "execution_count": 30,
   "metadata": {},
   "outputs": [
    {
     "name": "stdout",
     "output_type": "stream",
     "text": [
      "3 4 2 1\n",
      "3 3 3 1\n",
      "1\n"
     ]
    }
   ],
   "source": [
    "# 회전된 정렬된 배열에서 최소값 찾기\n",
    "# arr = [4, 5, 6, 7, 0, 1, 2]\n",
    "arr = [3,4,5,1,2]\n",
    "low = 0\n",
    "high = len(arr) - 1\n",
    "# min_value = arr[0]\n",
    "\n",
    "def find_min_in_rotated_array(arr, low, high):\n",
    "    # 회전되지 않았다면, 가장 낮은 인덱스의 값이 최소값\n",
    "    if arr[low] <= arr[high]:\n",
    "        return arr[low]\n",
    "    \n",
    "    while low < high:\n",
    "        mid = (low + high) // 2\n",
    "        # 중간 값이 high보다 크면, 최소값은 mid + 1과 high 사이에 있다\n",
    "        if arr[mid] > arr[high]:\n",
    "            low = mid + 1\n",
    "        else :\n",
    "            high = mid\n",
    "        print(low, high, mid, arr[low])\n",
    "\n",
    "    return arr[low] # 이 시점에서 low == high, 최소값 반환\n",
    "\n",
    "print(find_min_in_rotated_array(arr, low, high))\n"
   ]
  },
  {
   "cell_type": "code",
   "execution_count": 46,
   "metadata": {},
   "outputs": [
    {
     "name": "stdout",
     "output_type": "stream",
     "text": [
      "n=1; 1->3\n",
      "else; 1->2\n",
      "n=1; 3->2\n",
      "else; 1->3\n",
      "n=1; 2->1\n",
      "else; 2->3\n",
      "n=1; 1->3\n"
     ]
    }
   ],
   "source": [
    "# 하노이의 탑\n",
    "start, auxiliary, end  = 1, 2, 3\n",
    "\n",
    "def hanoi(n, start, auxiliary, end): # n은 원판의 개수\n",
    "    if n == 1 :\n",
    "        print('n=1;', str(start) + '->' + str(end))\n",
    "        return str(start) + '->' + str(end)\n",
    "    else :\n",
    "        hanoi(n-1, start, end, auxiliary) # 시작 기둥에서 보조 기둥으로 옮기기, 목적지 기둥이 임시로 보조기둥 역할을 함\n",
    "        print('else;', str(start) + '->' + str(end)) # 가장 마지막 원판을 시작기둥에서 목적지 기둥으로 옮기기\n",
    "        hanoi(n-1, auxiliary, start, end) # 보조 기둥에서 목적지 기둥으로 옮기기, 시작 기둥이 임시로 보조기둥 역할을 함\n",
    "    \n",
    "hanoi(3, start, auxiliary, end)"
   ]
  },
  {
   "cell_type": "markdown",
   "metadata": {},
   "source": [
    "BFS / DFS"
   ]
  },
  {
   "cell_type": "code",
   "execution_count": 2,
   "metadata": {},
   "outputs": [
    {
     "name": "stdout",
     "output_type": "stream",
     "text": [
      "0 ,;; {0} deque([1, 2])\n",
      "1 ,;; {0, 1} deque([2, 3, 4])\n",
      "2 ,;; {0, 1, 2} deque([3, 4, 4])\n",
      "3 ,;; {0, 1, 2, 3} deque([4, 4, 5])\n",
      "4 ,;; {0, 1, 2, 3, 4} deque([4, 5, 5])\n",
      ",;; {0, 1, 2, 3, 4} deque([5, 5])\n",
      "5 ,;; {0, 1, 2, 3, 4, 5} deque([5])\n",
      ",;; {0, 1, 2, 3, 4, 5} deque([])\n"
     ]
    }
   ],
   "source": [
    "# BFS 구현해보기\n",
    "from collections import deque\n",
    "\n",
    "# 그래프는 인접 리스트로 표현\n",
    "graph = {\n",
    "    0: [1, 2],\n",
    "    1: [0, 3, 4],\n",
    "    2: [0, 4],\n",
    "    3: [1, 5],\n",
    "    4: [1, 2, 5],\n",
    "    5: [3, 4]\n",
    "}\n",
    "\n",
    "def bfs(graph, start):\n",
    "    visited = set() # 방문한 노드 기록\n",
    "    queue = deque([start]) # 탐색을 시작할 노드를 큐에 삽입\n",
    "\n",
    "    while queue:\n",
    "        vertex = queue.popleft() # 큐에서 노드를 하나 꺼낸다\n",
    "        if vertex not in visited:\n",
    "            visited.add(vertex) # 노드를 방문했다는 표시\n",
    "            print(vertex, end=\" \") # 방문한 노드 출력\n",
    "            # 해당 노드와 인접한 노드 중 방문하지 않은 노드를 모두 큐에 삽입\n",
    "            queue.extend([v for v in graph[vertex] if v not in visited])\n",
    "        print(',;;', visited, queue)\n",
    "\n",
    "bfs(graph, 0) # 0번 노드부터 탐색 시작"
   ]
  },
  {
   "cell_type": "code",
   "execution_count": 4,
   "metadata": {},
   "outputs": [
    {
     "name": "stdout",
     "output_type": "stream",
     "text": [
      "0 1 {0}\n",
      "1 3 {0, 1}\n",
      "3 5 {0, 1, 3}\n",
      "5 4 {0, 1, 3, 5}\n",
      "4 2 {0, 1, 3, 4, 5}\n",
      "2 "
     ]
    }
   ],
   "source": [
    "# DFS구현\n",
    "# 그래프는 인접 리스트로 표현\n",
    "graph = {\n",
    "    0: [1, 2],\n",
    "    1: [0, 3, 4],\n",
    "    2: [0, 4],\n",
    "    3: [1, 5],\n",
    "    4: [1, 2, 5],\n",
    "    5: [3, 4]\n",
    "}\n",
    "\n",
    "def dfs(graph, start, visited = None):\n",
    "    if visited is None :\n",
    "        visited = set() # 방문한 노드 기록\n",
    "    visited.add(start) # 현재 노드를 방문 처리\n",
    "    print(start, end= \" \") # 방문한 노드 출력\n",
    "\n",
    "    # 현재 노드와 인접한 노드 중 방문하지 않은 노드에 대해 재귀적으로 함수 호출\n",
    "    for next_vertex in graph[start]:\n",
    "        if next_vertex not in visited:\n",
    "            print(next_vertex, visited)\n",
    "            dfs(graph, next_vertex, visited)\n",
    "\n",
    "dfs(graph, 0)\n",
    "\n"
   ]
  },
  {
   "cell_type": "code",
   "execution_count": null,
   "metadata": {},
   "outputs": [],
   "source": []
  }
 ],
 "metadata": {
  "kernelspec": {
   "display_name": "sangil",
   "language": "python",
   "name": "python3"
  },
  "language_info": {
   "codemirror_mode": {
    "name": "ipython",
    "version": 3
   },
   "file_extension": ".py",
   "mimetype": "text/x-python",
   "name": "python",
   "nbconvert_exporter": "python",
   "pygments_lexer": "ipython3",
   "version": "3.11.4"
  }
 },
 "nbformat": 4,
 "nbformat_minor": 2
}
